{
  "nbformat": 4,
  "nbformat_minor": 0,
  "metadata": {
    "colab": {
      "provenance": [],
      "authorship_tag": "ABX9TyMGJE2mFkmmKxx3yBq+qZh7",
      "include_colab_link": true
    },
    "kernelspec": {
      "name": "python3",
      "display_name": "Python 3"
    },
    "language_info": {
      "name": "python"
    }
  },
  "cells": [
    {
      "cell_type": "markdown",
      "metadata": {
        "id": "view-in-github",
        "colab_type": "text"
      },
      "source": [
        "<a href=\"https://colab.research.google.com/github/2303A52354/Generative-AI/blob/main/Generative_AI_Ass_2.ipynb\" target=\"_parent\"><img src=\"https://colab.research.google.com/assets/colab-badge.svg\" alt=\"Open In Colab\"/></a>"
      ]
    },
    {
      "cell_type": "code",
      "execution_count": null,
      "metadata": {
        "id": "JtA6MYh6-Eq2"
      },
      "outputs": [],
      "source": []
    },
    {
      "cell_type": "markdown",
      "source": [
        "V Harshavardhanu\n",
        "\n",
        "2303A52354\n",
        "\n",
        "Batch-41\n",
        "\n",
        "\n"
      ],
      "metadata": {
        "id": "oIT7lIjX-5dl"
      }
    },
    {
      "cell_type": "markdown",
      "source": [
        "## **Question 1**"
      ],
      "metadata": {
        "id": "52MxSuGj_KJt"
      }
    },
    {
      "cell_type": "code",
      "source": [
        "from scipy.optimize import linprog\n",
        "c = [-6, -5]\n",
        "A_ub = [\n",
        " [1, 1],\n",
        " [3, 2]\n",
        "]\n",
        "b_ub = [5, 12]\n",
        "x_bounds = (0, None)\n",
        "y_bounds = (0, None)\n",
        "result = linprog(c, A_ub=A_ub, b_ub=b_ub, bounds=[x_bounds, y_bounds],\n",
        "method=\"highs\")\n",
        "if result.success:\n",
        " print(f\"Optimal number of A to produce: {result.x[0]:.2f}\")\n",
        " print(f\"Optimal number of B to produce: {result.x[1]:.2f}\")\n",
        " print(f\"Maximum Profit: {-result.fun:.2f}\")\n",
        "else:\n",
        " print(\"Optimization failed:\", result.message)\n"
      ],
      "metadata": {
        "colab": {
          "base_uri": "https://localhost:8080/"
        },
        "id": "cqJlsF9J_Qfs",
        "outputId": "2993a615-68a3-4fb4-89cc-9a95c5da218a"
      },
      "execution_count": 1,
      "outputs": [
        {
          "output_type": "stream",
          "name": "stdout",
          "text": [
            "Optimal number of A to produce: 2.00\n",
            "Optimal number of B to produce: 3.00\n",
            "Maximum Profit: 27.00\n"
          ]
        }
      ]
    },
    {
      "cell_type": "markdown",
      "source": [
        "## **Question 2**"
      ],
      "metadata": {
        "id": "stivHK70_az9"
      }
    },
    {
      "cell_type": "code",
      "source": [
        "from scipy.optimize import linprog\n",
        "c = [-50, -120]\n",
        "A_ub = [\n",
        " [1, 1],\n",
        " [7000, 2000],\n",
        " [10, 30]\n",
        "]\n",
        "b_ub = [110, 700000, 1200]\n",
        "x_bounds = (0, None)\n",
        "y_bounds = (0, None)\n",
        "result = linprog(c, A_ub=A_ub, b_ub=b_ub, bounds=[x_bounds, y_bounds],\n",
        "method=\"highs\")\n",
        "if result.success:\n",
        " print(f\"Optimal hectares of Wheat (x1): {result.x[0]:.2f}\")\n",
        " print(f\"Optimal hectares of Barley (x2): {result.x[1]:.2f}\")\n",
        " print(f\"Maximum Profit: {-result.fun:.2f}\")\n",
        "else:\n",
        " print(\"Optimization failed:\", result.message)"
      ],
      "metadata": {
        "colab": {
          "base_uri": "https://localhost:8080/"
        },
        "id": "bI1-pMtn_qkt",
        "outputId": "84c21c97-955a-4a5f-851d-ef49c9f6f6a2"
      },
      "execution_count": 2,
      "outputs": [
        {
          "output_type": "stream",
          "name": "stdout",
          "text": [
            "Optimal hectares of Wheat (x1): 97.89\n",
            "Optimal hectares of Barley (x2): 7.37\n",
            "Maximum Profit: 5778.95\n"
          ]
        }
      ]
    }
  ]
}